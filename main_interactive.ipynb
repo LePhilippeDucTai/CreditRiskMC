{
 "nbformat": 4,
 "nbformat_minor": 2,
 "metadata": {
  "language_info": {
   "name": "python",
   "codemirror_mode": {
    "name": "ipython",
    "version": 3
   },
   "version": "3.7.3-final"
  },
  "orig_nbformat": 2,
  "file_extension": ".py",
  "mimetype": "text/x-python",
  "name": "python",
  "npconvert_exporter": "python",
  "pygments_lexer": "ipython3",
  "version": 3,
  "kernelspec": {
   "name": "python37364bit6bf70c5e76c145088d572f288fb9b624",
   "display_name": "Python 3.7.3 64-bit",
   "language": "python"
  }
 },
 "cells": [
  {
   "cell_type": "code",
   "execution_count": 217,
   "metadata": {},
   "outputs": [],
   "source": [
    "import numpy as np\n",
    "import creditportfolio as cp\n",
    "import gaussian_copula as gc\n",
    "import monte_carlo_credit as mccr\n",
    "import pandas as pd\n",
    "import numpy as np\n",
    "import functools\n",
    "from scipy import optimize"
   ]
  },
  {
   "cell_type": "code",
   "execution_count": 2,
   "metadata": {},
   "outputs": [],
   "source": [
    "import numpy as np"
   ]
  },
  {
   "cell_type": "code",
   "execution_count": 261,
   "metadata": {},
   "outputs": [],
   "source": [
    "initial_seed = 1414014103\n",
    "ss = np.random.SeedSequence(initial_seed)\n",
    "child_seq = ss.spawn(10)\n",
    "generators = [np.random.default_rng(s) for s in child_seq]\n",
    "m = 100\n",
    "exposures_k = generators[0].gamma(shape = 10, scale = 10, size = m)\n",
    "p_k = generators[1].uniform(low = 0, high = 0.1, size = m)"
   ]
  },
  {
   "cell_type": "code",
   "execution_count": 263,
   "metadata": {},
   "outputs": [
    {
     "output_type": "stream",
     "name": "stdout",
     "text": [
      "0.06298 0.03724435671219112\n"
     ]
    }
   ],
   "source": [
    "def simulate_loss(size, probs):\n",
    "    defaults = generators[2].binomial(n = 1, p = probs, size = (size, m))\n",
    "    L = np.dot(defaults, exposures_k)\n",
    "    return L\n",
    "\n",
    "def simulate_prob(x, n_mc, f):\n",
    "    X = f(n_mc, p_k)\n",
    "    return np.mean(X > x)\n",
    "\n",
    "def is_probs(theta):\n",
    "    return (p_k * np.exp(theta * exposures_k))/(1 + p_k * (np.exp(theta* exposures_k) - 1))\n",
    "\n",
    "def psi(theta):\n",
    "    return np.sum(np.log(1 + p_k * (np.exp(theta * exposures_k - 1))))\n",
    "\n",
    "def q_expectation_loss(theta):\n",
    "    return np.dot(exposures_k, is_probs(theta))\n",
    "\n",
    "def simulate_is_prob(x, n_mc, f):\n",
    "    g = lambda theta : q_expectation_loss(theta) - x\n",
    "    theta_opt = optimize.newton(g, x0 =0.01)\n",
    "    X = f(n_mc, is_probs(theta_opt))\n",
    "    return np.mean((X > x)*np.exp(-theta_opt * X + psi(theta_opt) ))\n",
    "\n",
    "p1 = simulate_prob(800, 1000000, simulate_loss)\n",
    "p2 = simulate_is_prob(800, 100000, simulate_loss)\n",
    "\n",
    "print(p1, p2)"
   ]
  },
  {
   "cell_type": "code",
   "execution_count": 251,
   "metadata": {},
   "outputs": [
    {
     "output_type": "stream",
     "name": "stdout",
     "text": [
      "[552.16078856 515.89796907 516.86805134 ... 118.28612648 523.97913654\n 415.54584491]\n"
     ]
    },
    {
     "output_type": "execute_result",
     "data": {
      "text/plain": [
       "0.0"
      ]
     },
     "metadata": {},
     "execution_count": 251
    }
   ],
   "source": [
    "simulate_prob(6000, 10000, simulate_loss)"
   ]
  },
  {
   "cell_type": "code",
   "execution_count": 178,
   "metadata": {},
   "outputs": [
    {
     "output_type": "execute_result",
     "data": {
      "text/plain": [
       "array([561.61595452, 517.05013674, 678.06554034, 950.58855567,\n",
       "       362.66979333, 359.81444363, 149.84495763, 566.32281373,\n",
       "       459.33474068, 534.26412191, 463.67629889, 244.31991277,\n",
       "       451.55880634, 227.58817939, 839.93507901, 131.80039988,\n",
       "       471.42920304, 608.87207132, 768.39923068, 481.70023694])"
      ]
     },
     "metadata": {},
     "execution_count": 178
    }
   ],
   "source": [
    "L = simulate_loss(size = 20)\n",
    "L"
   ]
  },
  {
   "cell_type": "code",
   "execution_count": null,
   "metadata": {},
   "outputs": [],
   "source": []
  },
  {
   "cell_type": "code",
   "execution_count": null,
   "metadata": {},
   "outputs": [],
   "source": []
  }
 ]
}